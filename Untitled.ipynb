{
 "cells": [
  {
   "cell_type": "code",
   "execution_count": 2,
   "id": "d2ebe2e7",
   "metadata": {},
   "outputs": [
    {
     "name": "stdout",
     "output_type": "stream",
     "text": [
      "[2002, 2009, 2016, 2023, 2037, 2044, 2051, 2058, 2072, 2079, 2086, 2093, 2107, 2114, 2121, 2128, 2142, 2149, 2156, 2163, 2177, 2184, 2191, 2198, 2212, 2219, 2226, 2233, 2247, 2254, 2261, 2268, 2282, 2289, 2296, 2303, 2317, 2324, 2331, 2338, 2352, 2359, 2366, 2373, 2387, 2394, 2401, 2408, 2422, 2429, 2436, 2443, 2457, 2464, 2471, 2478, 2492, 2499, 2506, 2513, 2527, 2534, 2541, 2548, 2562, 2569, 2576, 2583, 2597, 2604, 2611, 2618, 2632, 2639, 2646, 2653, 2667, 2674, 2681, 2688, 2702, 2709, 2716, 2723, 2737, 2744, 2751, 2758, 2772, 2779, 2786, 2793, 2807, 2814, 2821, 2828, 2842, 2849, 2856, 2863, 2877, 2884, 2891, 2898, 2912, 2919, 2926, 2933, 2947, 2954, 2961, 2968, 2982, 2989, 2996, 3003, 3017, 3024, 3031, 3038, 3052, 3059, 3066, 3073, 3087, 3094, 3101, 3108, 3122, 3129, 3136, 3143, 3157, 3164, 3171, 3178, 3192, 3199, 3206, 3213, 3227, 3234, 3241, 3248, 3262, 3269, 3276, 3283, 3297, 3304, 3311, 3318, 3332, 3339, 3346, 3353, 3367, 3374, 3381, 3388, 3402, 3409, 3416, 3423, 3437, 3444, 3451, 3458, 3472, 3479, 3486, 3493]\n"
     ]
    }
   ],
   "source": [
    "list = []\n",
    "\n",
    "for i in range(2000,3501):\n",
    "    if i%7 == 0 and i%5 != 0 :\n",
    "        list.append(i)\n",
    "        \n",
    "print(list)"
   ]
  },
  {
   "cell_type": "code",
   "execution_count": 35,
   "id": "30fe1d87",
   "metadata": {},
   "outputs": [
    {
     "name": "stdout",
     "output_type": "stream",
     "text": [
      "choose a number5\n",
      "f( 5 )= 120\n"
     ]
    }
   ],
   "source": [
    "number = int(input(\"choose a number\"))\n",
    "a=number\n",
    "if number==0 :\n",
    "    \n",
    "    print(\"f(0)=1\")\n",
    "\n",
    "\n",
    "if number>0 :\n",
    "        for i in range(1,number):\n",
    "                final = number*i\n",
    "                number = number*i\n",
    "        print('f(', a, ')=', final)\n",
    "\n"
   ]
  },
  {
   "cell_type": "code",
   "execution_count": 2,
   "id": "8269aaf8",
   "metadata": {},
   "outputs": [
    {
     "name": "stdout",
     "output_type": "stream",
     "text": [
      "choose a number65\n",
      "{1: 1, 2: 4, 3: 9, 4: 16, 5: 25, 6: 36, 7: 49, 8: 64, 9: 81, 10: 100, 11: 121, 12: 144, 13: 169, 14: 196, 15: 225, 16: 256, 17: 289, 18: 324, 19: 361, 20: 400, 21: 441, 22: 484, 23: 529, 24: 576, 25: 625, 26: 676, 27: 729, 28: 784, 29: 841, 30: 900, 31: 961, 32: 1024, 33: 1089, 34: 1156, 35: 1225, 36: 1296, 37: 1369, 38: 1444, 39: 1521, 40: 1600, 41: 1681, 42: 1764, 43: 1849, 44: 1936, 45: 2025, 46: 2116, 47: 2209, 48: 2304, 49: 2401, 50: 2500, 51: 2601, 52: 2704, 53: 2809, 54: 2916, 55: 3025, 56: 3136, 57: 3249, 58: 3364, 59: 3481, 60: 3600, 61: 3721, 62: 3844, 63: 3969, 64: 4096}\n"
     ]
    }
   ],
   "source": [
    "b = int(input(\"choose a number\"))\n",
    "dictionnary = {}\n",
    "for i in range(1,b):\n",
    "    dictionnary[i]=i*i\n",
    "    \n",
    "print(dictionnary)"
   ]
  },
  {
   "cell_type": "code",
   "execution_count": 39,
   "id": "3816a972",
   "metadata": {
    "scrolled": true
   },
   "outputs": [
    {
     "name": "stdout",
     "output_type": "stream",
     "text": [
      " choose a sentencesedrtfyghuijokpl[;]'\n",
      " choose a number5\n",
      "sedrt yghuijokpl[;]'\n"
     ]
    }
   ],
   "source": [
    "test = str(input(\" choose a sentence \"))\n",
    "n = int(input(\" choose a number \"))\n",
    "\n",
    "for i in range(len(test)):\n",
    "    if n == i :\n",
    "        print(test[0:n], test[n+1:])\n",
    "\n"
   ]
  },
  {
   "cell_type": "code",
   "execution_count": 48,
   "id": "b0f8c899",
   "metadata": {},
   "outputs": [
    {
     "name": "stdout",
     "output_type": "stream",
     "text": [
      "[1, 2, 3, 4, 5, 6]\n"
     ]
    }
   ],
   "source": [
    "import numpy as np\n",
    "\n",
    "a = np.array([1, 2, 3, 4, 5, 6])\n",
    "a_list = list(a)\n",
    "print(a_list)"
   ]
  },
  {
   "cell_type": "code",
   "execution_count": 49,
   "id": "ca42b05f",
   "metadata": {},
   "outputs": [
    {
     "name": "stdout",
     "output_type": "stream",
     "text": [
      "[[ 1. -1.]\n",
      " [-1.  1.]]\n"
     ]
    }
   ],
   "source": [
    "import numpy as np\n",
    " \n",
    "x = [0, 1, 2]\n",
    " \n",
    "y = [2, 1, 0]\n",
    " \n",
    "\n",
    "cov_mat = np.stack((x, y), axis = 0)\n",
    " \n",
    "print(np.cov(cov_mat))"
   ]
  },
  {
   "cell_type": "code",
   "execution_count": 55,
   "id": "eab9aaaa",
   "metadata": {},
   "outputs": [
    {
     "name": "stdout",
     "output_type": "stream",
     "text": [
      "18.257418583505537\n",
      "22.360679774997898\n",
      "24.49489742783178\n"
     ]
    }
   ],
   "source": [
    "from math import sqrt\n",
    "C = 50\n",
    "H = 30\n",
    "D = [100,150,180]\n",
    "n = 0\n",
    "for i in range(len(D)):\n",
    "    print(sqrt((2 * C * D[n])/H) )\n",
    "    n=n+1"
   ]
  },
  {
   "cell_type": "code",
   "execution_count": null,
   "id": "7b369f9c",
   "metadata": {},
   "outputs": [],
   "source": []
  }
 ],
 "metadata": {
  "kernelspec": {
   "display_name": "Python 3 (ipykernel)",
   "language": "python",
   "name": "python3"
  },
  "language_info": {
   "codemirror_mode": {
    "name": "ipython",
    "version": 3
   },
   "file_extension": ".py",
   "mimetype": "text/x-python",
   "name": "python",
   "nbconvert_exporter": "python",
   "pygments_lexer": "ipython3",
   "version": "3.9.12"
  }
 },
 "nbformat": 4,
 "nbformat_minor": 5
}
